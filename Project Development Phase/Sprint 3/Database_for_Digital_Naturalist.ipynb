{
  "nbformat": 4,
  "nbformat_minor": 0,
  "metadata": {
    "colab": {
      "provenance": []
    },
    "kernelspec": {
      "name": "python3",
      "display_name": "Python 3"
    },
    "language_info": {
      "name": "python"
    }
  },
  "cells": [
    {
      "cell_type": "markdown",
      "source": [
        "# **Database creation - Sprint 3**"
      ],
      "metadata": {
        "id": "i6nk1783FZ9_"
      }
    },
    {
      "cell_type": "code",
      "source": [
        "import sqlite3"
      ],
      "metadata": {
        "id": "bzzBq02PFadW"
      },
      "execution_count": 2,
      "outputs": []
    },
    {
      "cell_type": "code",
      "source": [
        "conn = sqlite3.connect(\"species.db\")\n",
        "conn.execute('''CREATE TABLE SPECIES(ID INTEGER NOT NULL,SPECIES TEXT NOT NULL, GENUS TEXT NOT NULL);''')"
      ],
      "metadata": {
        "colab": {
          "base_uri": "https://localhost:8080/"
        },
        "id": "G2tl8PV3FgQA",
        "outputId": "5087c3f2-41c1-470b-fe8a-496eaca1e632"
      },
      "execution_count": 3,
      "outputs": [
        {
          "output_type": "execute_result",
          "data": {
            "text/plain": [
              "<sqlite3.Cursor at 0x7f817caece30>"
            ]
          },
          "metadata": {},
          "execution_count": 3
        }
      ]
    },
    {
      "cell_type": "markdown",
      "source": [
        "# **Pushing all the data into DB**"
      ],
      "metadata": {
        "id": "RcWN0Ww_FiuQ"
      }
    },
    {
      "cell_type": "code",
      "source": [
        "animals = ['Pangolin Mammal', 'Senenca White Deer Mammal', 'antelope', 'badger', 'bear', 'bison',\n",
        " 'boar', 'cat', 'chimpanzee', 'cow', 'coyote', 'deer', 'dog', 'donkey',\n",
        " 'elephant', 'fox', 'goat', 'gorilla', 'hamster', 'hare', 'hedgehog', 'hippopotamus', 'horse', 'hyena',\n",
        " 'kangaroo', 'koala', 'leopard', 'lion', 'lizard', 'mouse', 'okapi', 'orangutan',\n",
        " 'otter', 'ox', 'panda', 'pig', 'porcupine', 'possum', 'raccoon', 'rat', 'reindeer', 'rhinoceros',\n",
        " 'sheep', 'snake', 'squirrel', 'tiger', 'wolf', 'wombat', 'zebra']\n",
        "\n",
        "for i in range(len(animals)):\n",
        "    conn.execute(f'''INSERT INTO SPECIES VALUES('{i}','Animals',\"{animals[i]}\")''')\n",
        "conn.commit()"
      ],
      "metadata": {
        "id": "tqWwTS6pFjRU"
      },
      "execution_count": 4,
      "outputs": []
    },
    {
      "cell_type": "code",
      "source": [
        "birds = ['Great Indian Bustard Bird', 'Spoon Billed Sandpiper Bird', 'bat', 'crow',\n",
        " 'duck', 'eagle', 'flamingo', 'goose', 'hornbill', 'hummingbird',\n",
        " 'owl', 'parrot', 'pelecaniformes', 'penguin', 'pigeon', 'sandpiper', 'sparrow',\n",
        " 'swan', 'turkey', 'woodpecker']\n",
        "\n",
        "for i in range(len(birds)):\n",
        "    conn.execute(f'''INSERT INTO SPECIES VALUES('{i}','Birds',\"{birds[i]}\")''')\n",
        "conn.commit()"
      ],
      "metadata": {
        "id": "wYAQMwrgFuwc"
      },
      "execution_count": 5,
      "outputs": []
    },
    {
      "cell_type": "code",
      "source": [
        "flowers = ['Bluebell', 'Buttercup', 'Coltsfoot', 'Corpse Flower', 'Cowslip', 'Crocus', 'Daffodil',\n",
        " 'Fritillary', 'Iris', 'Lady Slipper Orchid Flower', 'Lily Valley', 'Pansy', 'Snowdrop',\n",
        " 'Tigerlily', 'Windflower', 'daisy', 'dandelion', 'rose', 'sunflower', 'tulip']\n",
        "\n",
        "for i in range(len(flowers)):\n",
        "    conn.execute(f'''INSERT INTO SPECIES VALUES('{i}','Flowers',\"{flowers[i]}\")''')\n",
        "conn.commit()"
      ],
      "metadata": {
        "id": "Qs1OVWprF0i6"
      },
      "execution_count": 6,
      "outputs": []
    },
    {
      "cell_type": "code",
      "source": [
        "insects = ['bee', 'beetle', 'butterfly', 'caterpillar', 'cockroach',\n",
        " 'dragonfly', 'fly', 'grasshopper', 'ladybugs', 'mosquito', 'moth']\n",
        "\n",
        "for i in range(len(insects)):\n",
        "    conn.execute(f'''INSERT INTO SPECIES VALUES('{i}','Insects',\"{insects[i]}\")''')\n",
        "conn.commit()"
      ],
      "metadata": {
        "id": "maO_EzIxF3W-"
      },
      "execution_count": 7,
      "outputs": []
    },
    {
      "cell_type": "code",
      "source": [
        "leaves = ['Apple Leaf', 'Arrowhead Leaf', 'Bamboo Leaf', 'Banana Leaf', 'Currant Leaf', 'Curry Leaf',\n",
        " 'Duckpotato Leaf', 'Fig Leaf', 'Gooseberry Leaf', 'Guava Leaf', 'Lemon Leaf', 'Mango Leaf',\n",
        " 'Mulberry Leaf', 'Papaya Leaf', 'Pine Leaf', 'Raddish Leaf', 'Raspberry Leaf',\n",
        " 'Rose Leaf', 'Tangerine Leaf', 'Tomato Leaf', 'WaterOak Leaf']\n",
        "\n",
        "for i in range(len(leaves)):\n",
        "    conn.execute(f'''INSERT INTO SPECIES VALUES('{i}','Leaves',\"{leaves[i]}\")''')\n",
        "conn.commit()"
      ],
      "metadata": {
        "id": "f8oHXl8mF7ql"
      },
      "execution_count": 8,
      "outputs": []
    },
    {
      "cell_type": "code",
      "source": [
        "sea = ['Corals', 'Crabs', 'Dolphin', 'Eel', 'Jelly Fish', 'Lobster', 'Nudibranchs', 'Octopus', 'Penguin',\n",
        " 'Puffers', 'Sea Rays', 'Sea Urchins', 'Seahorse', 'Seal', 'Sharks', 'Squid',\n",
        " 'Starfish', 'Turtle_Tortoise', 'Whale', 'goldfish', 'oyster']\n",
        "\n",
        "for i in range(len(sea)):\n",
        "    conn.execute(f'''INSERT INTO SPECIES VALUES('{i}','Sea Animals',\"{sea[i]}\")''')\n",
        "conn.commit()"
      ],
      "metadata": {
        "id": "dTA5dHZ8F_1h"
      },
      "execution_count": 9,
      "outputs": []
    },
    {
      "cell_type": "markdown",
      "source": [
        "## **Testing the Database**"
      ],
      "metadata": {
        "id": "bXKo-KFfGIrk"
      }
    },
    {
      "cell_type": "code",
      "source": [
        "id1 = 12\n",
        "species = \"Sea Animals\"\n",
        "cursor = conn.execute(f'''SELECT GENUS FROM SPECIES WHERE SPECIES==\"{species}\" AND ID==\"{id1}\"''')\n",
        "send = cursor.fetchall()[0][0]\n",
        "print(send)"
      ],
      "metadata": {
        "colab": {
          "base_uri": "https://localhost:8080/"
        },
        "id": "S1lNghiuGJFc",
        "outputId": "406816bf-6d91-41e8-ed21-83a1577e1b93"
      },
      "execution_count": 10,
      "outputs": [
        {
          "output_type": "stream",
          "name": "stdout",
          "text": [
            "Seahorse\n"
          ]
        }
      ]
    }
  ]
}